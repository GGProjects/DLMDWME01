{
 "cells": [
  {
   "cell_type": "markdown",
   "metadata": {
    "collapsed": true
   },
   "source": [
    "## Bootstrapping"
   ]
  },
  {
   "cell_type": "code",
   "execution_count": 3,
   "metadata": {
    "collapsed": false
   },
   "outputs": [
    {
     "name": "stdout",
     "output_type": "stream",
     "text": [
      "Nicht in Bootstrap: 36.8 %\n"
     ]
    }
   ],
   "source": [
    "from random import randint\n",
    "import numpy as np\n",
    "n = 1000 # Anzahl der Beispiele\n",
    "# Ihre urspruengliche Beispielmenge\n",
    "beispiele = set(range(n)) \n",
    "ergebnisse = list()\n",
    "for j in range(10000):\n",
    "    #  Ihre Bootstrap-Stichprobe\n",
    "    gewaehlt = [randint(0,n) for k in range(n)]\n",
    "    # ausserhalb der Trainingsstichprobe\n",
    "    ergebnisse.append((1000-len(set(gewaehlt)&beispiele))\n",
    "                   /float(n)) \n",
    "print (\"Nicht in Bootstrap: %0.1f %%\" % \n",
    "       (np.mean(ergebnisse)*100))"
   ]
  }
 ],
 "metadata": {
  "kernelspec": {
   "display_name": "Python 3",
   "language": "python",
   "name": "python3"
  },
  "language_info": {
   "codemirror_mode": {
    "name": "ipython",
    "version": 3
   },
   "file_extension": ".py",
   "mimetype": "text/x-python",
   "name": "python",
   "nbconvert_exporter": "python",
   "pygments_lexer": "ipython3",
   "version": "3.4.4"
  }
 },
 "nbformat": 4,
 "nbformat_minor": 0
}
